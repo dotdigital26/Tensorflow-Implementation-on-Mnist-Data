{
  "nbformat": 4,
  "nbformat_minor": 0,
  "metadata": {
    "colab": {
      "name": " TensorFlow_FeedForward_Backpropagation.ipynb",
      "provenance": [],
      "collapsed_sections": [],
      "authorship_tag": "ABX9TyMwY7Ic6ncH6io7I5y1gOhg",
      "include_colab_link": true
    },
    "kernelspec": {
      "name": "python3",
      "display_name": "Python 3"
    }
  },
  "cells": [
    {
      "cell_type": "markdown",
      "metadata": {
        "id": "view-in-github",
        "colab_type": "text"
      },
      "source": [
        "<a href=\"https://colab.research.google.com/github/dotdigital26/Tensorflow-Implementation-on-Mnist-Data/blob/main/TensorFlow_FeedForward_Backpropagation.ipynb\" target=\"_parent\"><img src=\"https://colab.research.google.com/assets/colab-badge.svg\" alt=\"Open In Colab\"/></a>"
      ]
    },
    {
      "cell_type": "markdown",
      "metadata": {
        "id": "3MOD9nEeKr7L"
      },
      "source": [
        "MNIST DIGIT CLASSIFICATION"
      ]
    },
    {
      "cell_type": "code",
      "metadata": {
        "colab": {
          "base_uri": "https://localhost:8080/"
        },
        "id": "_etT2JtDfAqF",
        "outputId": "8d394dee-d7ac-447a-a223-ad7d4c02a14b"
      },
      "source": [
        "import numpy as np\n",
        "import tensorflow as tf\n",
        "import matplotlib.pyplot as plt\n",
        "mnist = tf.keras.datasets.mnist.load_data(path='mnist.npz')"
      ],
      "execution_count": null,
      "outputs": [
        {
          "output_type": "stream",
          "text": [
            "Downloading data from https://storage.googleapis.com/tensorflow/tf-keras-datasets/mnist.npz\n",
            "11493376/11490434 [==============================] - 0s 0us/step\n"
          ],
          "name": "stdout"
        }
      ]
    },
    {
      "cell_type": "code",
      "metadata": {
        "colab": {
          "base_uri": "https://localhost:8080/",
          "height": 282
        },
        "id": "7eatcISAA3wH",
        "outputId": "f3918028-4c76-49de-854b-b126549bbdb8"
      },
      "source": [
        "(x_train, y_train), (x_test, y_test) = mnist\n",
        "plt.imshow(x_train[1],cmap='gray')"
      ],
      "execution_count": null,
      "outputs": [
        {
          "output_type": "execute_result",
          "data": {
            "text/plain": [
              "<matplotlib.image.AxesImage at 0x7f8c8b5b2a58>"
            ]
          },
          "metadata": {
            "tags": []
          },
          "execution_count": 3
        },
        {
          "output_type": "display_data",
          "data": {
            "image/png": "[encoded data removed]",
            "text/plain": [
              "<Figure size 432x288 with 1 Axes>"
            ]
          },
          "metadata": {
            "tags": [],
            "needs_background": "light"
          }
        }
      ]
    },
    {
      "cell_type": "code",
      "metadata": {
        "id": "QT5QtRKfITcL"
      },
      "source": [
        "def sigmoid(x):\n",
        "\n",
        "  x =np.clip(x, -500, 500) # This helps to limit the value of variable such that every value below min (-500) is renamed as -500 and same applies to max 50\n",
        "  \n",
        "  return np.where(x >=0, 1/(1+np.exp(x)))\n",
        "\n",
        "def dsigmoid(x):\n",
        "  return sigmoid(x) * (1-sigmoid(x))\n",
        "\n",
        "def softmax(x):\n",
        "  b = x.max()\n",
        "  y = np.exp(x - b)\n",
        "  return y/y.sum()\n",
        "\n",
        "def cross_entropy_loss(y, yHat):\n",
        "  return -np.sum(y * np.log(yHat))\n",
        "\n",
        "def integer_to_one_hot(x, max):\n",
        "  result = np.zero(10)\n",
        "  result[x] =1\n",
        "  return result\n",
        "  \n"
      ],
      "execution_count": null,
      "outputs": []
    },
    {
      "cell_type": "code",
      "metadata": {
        "id": "MDvCV5zqPV1O"
      },
      "source": [
        "#The next is initialization of weights, biases and model architechure. Bad weight initialization can affect our training\n",
        "#by causing no or slow convergence to the global minimum. In other to avoid that, we need to make sure our weight is initialized \n",
        "#to be closer to zero and closer to one. The whole point of this initialization(Xavier/Glorot Initialiation) is to avoid the problem of vanishing gradient which happens,\n",
        "#when the input of an activation function z=w^Tx + b is far away from the and the gradient of its update function equal 0. To avoid this, use Fan-in and Fanout or completely use \n",
        "#we can introduce RELU activation Unit\n",
        "\n",
        "import math\n",
        "from numpy.random import default_rng\n",
        "rng = default_rng(80085)\n",
        "\n",
        "##Neural Network Layer Sizes: 784 --> 32 --> 32 --> 10\n",
        "weights =[rng.normal(0,1/math.sqrt(784),(32,784)),\n",
        "          (rng.normal(0, 1/math.sqrt(32), (32, 32)),\n",
        "           rng.normal(0, 1/math.sqrt(32), (10,32)))]\n",
        "biases = [np.zeros(32), np.zeros(32), np.zeros(10)]\n",
        "\n",
        "#Plotting histogram of layer weights to chevk probability distribution\n",
        "print('Weight distribution per layer')\n",
        "for index, layer in enumerate(weights):\n",
        "  plt.figure()\n",
        "  plt.suptitle(\n",
        "      'Layer ' + str(index + 1) + ' with ' + str(layer.shape[0]) +\n",
        "      'Neurons, ' + str(layer.shape[1]) + ' inputs each  (' + str(layer.size) +\n",
        "      'weights in total)'\n",
        "       )\n",
        "  plt.hist(layer.flatten(), bins=100)"
      ],
      "execution_count": null,
      "outputs": []
    },
    {
      "cell_type": "code",
      "metadata": {
        "id": "ot14jXDxZJAe"
      },
      "source": [
        "\n",
        "def feed_forward_sample(sample, y):\n",
        "  \"\"\" Feeds a sample forward through the neural network.\n",
        "    Parameters:\n",
        "      sample: 1D numpy array. The input sample (an MNIST digit).\n",
        "      label: An integer from 0 to 9.\n",
        "\n",
        "    Returns: The cross entropy loss.\n",
        "  \"\"\"\n",
        "  a = sample.flatten()\n",
        "\n",
        "  for index, w in enumerate(weights):\n",
        "    z = np.matmul(w, a) + biases[index]\n",
        "    if index < len(weights) - 1:\n",
        "      a = sigmoid(z)\n",
        "    else:\n",
        "      a = softmax(z)\n",
        "\n",
        "  # Calculate loss\n",
        "  one_hot_y = integer_to_one_hot(y, 10)\n",
        "  loss = cross_entropy_loss(one_hot_y, a)\n",
        "\n",
        "  # Convert activations to one hot encoded guess\n",
        "  one_hot_guess = np.zeros_like(a)\n",
        "  one_hot_guess[np.argmax(a)] = 1\n",
        "  \n",
        "  return loss, one_hot_guess\n",
        "\n",
        "\n",
        "\n",
        "#Feedforward all training samples\n",
        "def feed_forward_dataset(x,y):\n",
        "  losses = np.empty(x.shape[0])\n",
        "  one_hot_guesses = np.empty((x.shape[0], 10))\n",
        "\n",
        "  for i in range(x.shape[0]):\n",
        "    if i == 0 or ((i + 1) % 10000 == 0):\n",
        "      print(i + 1, \"/\", x.shape[0], \"(\", format(((i + 1)/x.shape[0]) * 100, \".2f\"), \"%)\")\n",
        "    losses[i], one_hot_guesses[i] = feed_forward_sample(x[i], y[i])\n",
        "\n",
        "  print(\"\\nAverage loss:\", np.round(np.average(losses), decimals=2))\n",
        "\n",
        "  y_one_hot = np.zeros((y.size, 10))\n",
        "  y_one_hot[np.arange(y.size), y] = 1\n",
        "\n",
        "  correct_guesses = np.sum(y_one_hot * one_hot_guesses)\n",
        "  correct_guesses_percent = format((correct_guesses / y.shape[0]) * 100, \".2f\")\n",
        "  print('Accuracy (# of correct guesses):', correct_guesses, \"/\", y.shape[0], \"(\",correct_guesses_percent, \"%)\")\n",
        "\n",
        "def fee_forward_training_data():\n",
        "  print(\"Feeding forward all training data...\")\n",
        "  feed_forward_dataset(x_train, y_train)\n",
        "  print(\"\")\n",
        "\n",
        "def fee_forward_test_data():\n",
        "  print(\"Feeding forward all test data...\")\n",
        "  feed_forward_dataset(x_test, y_test)\n",
        "  print(\"\")\n",
        "fee_forward_test_data()"
      ],
      "execution_count": null,
      "outputs": []
    },
    {
      "cell_type": "code",
      "metadata": {
        "id": "dGmlOReG2pFK"
      },
      "source": [
        "\n",
        "def train_one_sample(sample, y, learning_rate=0.003):\n",
        "  a = sample.flatten()\n",
        "\n",
        "  # We will store each layer's activations to calculate gradient\n",
        "  activations = []\n",
        "\n",
        "  # Feedforward\n",
        "  for i, w in enumerate(weights): # Each w is a layer's 2D weight matrix\n",
        "    z = np.matmul(w, a) + biases[i]\n",
        "    if (i < len(weights) - 1):\n",
        "      a = sigmoid(z)\n",
        "    else:  \n",
        "      a = softmax(z) # softmax on last layer\n",
        "    activations.append(a)\n",
        "\n",
        "  # Calculate loss\n",
        "  one_hot_y = integer_to_one_hot(y, 10)\n",
        "  loss = cross_entropy_loss(one_hot_y, a)\n",
        "\n",
        "  # Convert last layer's activations to one hot encoded guess\n",
        "  one_hot_guess = np.zeros_like(a)\n",
        "  one_hot_guess[np.argmax(a)] = 1\n",
        "\n",
        "  # Check whether guess was correct\n",
        "  correct_guess = (np.sum(one_hot_y * one_hot_guess) == 1)\n",
        "\n",
        "  weight_gradients = [None] * len(weights)\n",
        "  bias_gradients = [None] * len(weights)\n",
        "  activation_gradients = [None] * (len(weights) - 1)\n",
        "  \n",
        "  # Backpropagation\n",
        "  for i in range(len(weights) - 1, -1, -1): # Traverse layers in reverse\n",
        "    last_layer = i == len(weights) - 1\n",
        "    second_to_last_layer = i == len(weights) - 2\n",
        "\n",
        "    if last_layer:\n",
        "      # Gather all needed variables, making vectors vertical\n",
        "      y = one_hot_y[:, np.newaxis]\n",
        "      a = activations[i][:, np.newaxis]\n",
        "      a_prev = activations[i-1][:, np.newaxis]\n",
        "\n",
        "      weight_gradients[i] = np.matmul((a - y), a_prev.T)\n",
        "      bias_gradients[i] = a - y\n",
        "\n",
        "    else:\n",
        "      # Gather all needed variables, making vectors vertical\n",
        "      w_next = weights[i+1]\n",
        "      a_next = activations[i + 1][:, np.newaxis]\n",
        "      y = one_hot_y[:, np.newaxis]\n",
        "      a = activations[i][:, np.newaxis]\n",
        "      if i > 0:\n",
        "        a_prev = activations[i-1][:, np.newaxis]\n",
        "      else:\n",
        "        # Previous activation is the sample itself\n",
        "        a_prev = sample.flatten()[:, np.newaxis]\n",
        "\n",
        "      # Activation gradient\n",
        "      if second_to_last_layer:\n",
        "        dCda = np.matmul(w_next.T, (a_next - y))\n",
        "        activation_gradients[i] = dCda\n",
        "      else:\n",
        "        dCda_next = activation_gradients[i+1]\n",
        "        dCda = np.matmul(w_next.T, (dsigmoid(a_next) * dCda_next))\n",
        "        activation_gradients[i] = dCda\n",
        "\n",
        "      # Weights & biases gradients\n",
        "      x = dsigmoid(a) * dCda\n",
        "      weight_gradients[i] = np.matmul(x, a_prev.T)\n",
        "      bias_gradients[i] = x\n",
        "\n",
        "    # Update weights & biases based on gradient\n",
        "    weights[i] -= weight_gradients[i] * learning_rate\n",
        "    biases[i] -= bias_gradients[i].flatten() * learning_rate\n",
        "\n",
        "def train_one_epoch(learning_rate=0.003):\n",
        "  print(\"Training for one epoch over the training dataset...\")\n",
        "  for i in range(x_train.shape[0]):\n",
        "    if i == 0 or ((i + 1) % 10000 == 0):\n",
        "      completion_percent = format(((i + 1) / x_train.shape[0]) * 100, \".2f\")\n",
        "      print(i + 1, \"/\", x_train.shape[0], \"(\", completion_percent, \"%)\")\n",
        "    train_one_sample(x_train[i], y_train[i], learning_rate)\n",
        "  print(\"Finished training.\\n\")\n",
        "\n",
        "# Train and check accuracy before & after each epoch\n",
        "\n",
        "feed_forward_test_data()\n",
        "\n",
        "def test_and_train():\n",
        "  train_one_epoch()\n",
        "  feed_forward_test_data()\n",
        "\n",
        "for i in range(3): # Adjust number of epochs here\n",
        "  test_and_train()"
      ],
      "execution_count": null,
      "outputs": []
    }
  ]
}